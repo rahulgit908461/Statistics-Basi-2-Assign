{
 "cells": [
  {
   "cell_type": "code",
   "execution_count": 1,
   "id": "def0c17d-b9c1-4541-a8c3-004cf3c3a057",
   "metadata": {},
   "outputs": [],
   "source": [
    "#Q1. What are the three measures of central tendency?"
   ]
  },
  {
   "cell_type": "code",
   "execution_count": 2,
   "id": "5a0f1f9f-9725-417c-bc3d-b36fef4b828c",
   "metadata": {},
   "outputs": [],
   "source": [
    "# There are three main measures of central tendency:\n",
    "# mode.\n",
    "# median.\n",
    "# mean."
   ]
  },
  {
   "cell_type": "code",
   "execution_count": 3,
   "id": "ad46acce-cc09-498f-8717-7b9d46de57cd",
   "metadata": {},
   "outputs": [],
   "source": [
    "#.Q2. What is the difference between the mean, median, and mode? How are they used to measure the\n",
    "#central tendency of a dataset?"
   ]
  },
  {
   "cell_type": "code",
   "execution_count": 4,
   "id": "feddac70-c400-464a-ba70-1a929453d19f",
   "metadata": {},
   "outputs": [],
   "source": [
    "#Ans -The mean (average) of a data set is found by adding all numbers in the data set and then dividing by the \n",
    "#number of values in the set. The median is the middle value when a data set is ordered from least to\n",
    "#greatest. The mode is the number that occurs most often in a data set."
   ]
  },
  {
   "cell_type": "code",
   "execution_count": 7,
   "id": "4cad2a8a-3f69-4f65-b093-2fee69e70ca0",
   "metadata": {},
   "outputs": [],
   "source": [
    "#Q3.  Measure the three measures of central tendency for the given height data:\n",
    "\n",
    "x=[178,177,176,177,178.2,178,175,179,180,175,178.9,176.2,177,172.5,178,176.5]"
   ]
  },
  {
   "cell_type": "code",
   "execution_count": 8,
   "id": "28de1a42-91f7-49a8-9a13-d58ed65311b9",
   "metadata": {},
   "outputs": [],
   "source": [
    "import numpy as np"
   ]
  },
  {
   "cell_type": "code",
   "execution_count": 9,
   "id": "eceec00e-9e88-48a2-9e2a-341a0dc534fe",
   "metadata": {},
   "outputs": [
    {
     "data": {
      "text/plain": [
       "2832.3"
      ]
     },
     "execution_count": 9,
     "metadata": {},
     "output_type": "execute_result"
    }
   ],
   "source": [
    "np.sum(x)"
   ]
  },
  {
   "cell_type": "code",
   "execution_count": 15,
   "id": "36f64a90-b4e8-4076-a4fa-e8b21ba2e80e",
   "metadata": {},
   "outputs": [
    {
     "data": {
      "text/plain": [
       "177.01875"
      ]
     },
     "execution_count": 15,
     "metadata": {},
     "output_type": "execute_result"
    }
   ],
   "source": [
    "np.mean(x)"
   ]
  },
  {
   "cell_type": "code",
   "execution_count": 16,
   "id": "b7c773ac-4aa1-44fb-9710-f2c391ff65a5",
   "metadata": {},
   "outputs": [],
   "source": [
    "import pandas as pd\n",
    "x=[178,177,176,177,178.2,178,175,179,180,175,178.9,176.2,177,172.5,178,176.5]"
   ]
  },
  {
   "cell_type": "code",
   "execution_count": 34,
   "id": "2c46b680-dd78-44c8-87f3-55474986c832",
   "metadata": {},
   "outputs": [
    {
     "data": {
      "text/html": [
       "<div>\n",
       "<style scoped>\n",
       "    .dataframe tbody tr th:only-of-type {\n",
       "        vertical-align: middle;\n",
       "    }\n",
       "\n",
       "    .dataframe tbody tr th {\n",
       "        vertical-align: top;\n",
       "    }\n",
       "\n",
       "    .dataframe thead th {\n",
       "        text-align: right;\n",
       "    }\n",
       "</style>\n",
       "<table border=\"1\" class=\"dataframe\">\n",
       "  <thead>\n",
       "    <tr style=\"text-align: right;\">\n",
       "      <th></th>\n",
       "      <th>0</th>\n",
       "    </tr>\n",
       "  </thead>\n",
       "  <tbody>\n",
       "    <tr>\n",
       "      <th>0</th>\n",
       "      <td>178.0</td>\n",
       "    </tr>\n",
       "    <tr>\n",
       "      <th>1</th>\n",
       "      <td>177.0</td>\n",
       "    </tr>\n",
       "    <tr>\n",
       "      <th>2</th>\n",
       "      <td>176.0</td>\n",
       "    </tr>\n",
       "    <tr>\n",
       "      <th>3</th>\n",
       "      <td>177.0</td>\n",
       "    </tr>\n",
       "    <tr>\n",
       "      <th>4</th>\n",
       "      <td>178.2</td>\n",
       "    </tr>\n",
       "    <tr>\n",
       "      <th>5</th>\n",
       "      <td>178.0</td>\n",
       "    </tr>\n",
       "    <tr>\n",
       "      <th>6</th>\n",
       "      <td>175.0</td>\n",
       "    </tr>\n",
       "    <tr>\n",
       "      <th>7</th>\n",
       "      <td>179.0</td>\n",
       "    </tr>\n",
       "    <tr>\n",
       "      <th>8</th>\n",
       "      <td>180.0</td>\n",
       "    </tr>\n",
       "    <tr>\n",
       "      <th>9</th>\n",
       "      <td>175.0</td>\n",
       "    </tr>\n",
       "    <tr>\n",
       "      <th>10</th>\n",
       "      <td>178.9</td>\n",
       "    </tr>\n",
       "    <tr>\n",
       "      <th>11</th>\n",
       "      <td>176.2</td>\n",
       "    </tr>\n",
       "    <tr>\n",
       "      <th>12</th>\n",
       "      <td>177.0</td>\n",
       "    </tr>\n",
       "    <tr>\n",
       "      <th>13</th>\n",
       "      <td>172.5</td>\n",
       "    </tr>\n",
       "    <tr>\n",
       "      <th>14</th>\n",
       "      <td>178.0</td>\n",
       "    </tr>\n",
       "    <tr>\n",
       "      <th>15</th>\n",
       "      <td>176.5</td>\n",
       "    </tr>\n",
       "  </tbody>\n",
       "</table>\n",
       "</div>"
      ],
      "text/plain": [
       "        0\n",
       "0   178.0\n",
       "1   177.0\n",
       "2   176.0\n",
       "3   177.0\n",
       "4   178.2\n",
       "5   178.0\n",
       "6   175.0\n",
       "7   179.0\n",
       "8   180.0\n",
       "9   175.0\n",
       "10  178.9\n",
       "11  176.2\n",
       "12  177.0\n",
       "13  172.5\n",
       "14  178.0\n",
       "15  176.5"
      ]
     },
     "execution_count": 34,
     "metadata": {},
     "output_type": "execute_result"
    }
   ],
   "source": [
    "pd.DataFrame(x)"
   ]
  },
  {
   "cell_type": "code",
   "execution_count": 35,
   "id": "b267233e-0e95-4920-a36e-c6d97e95f09b",
   "metadata": {},
   "outputs": [],
   "source": [
    "df=pd.DataFrame(x)"
   ]
  },
  {
   "cell_type": "code",
   "execution_count": 36,
   "id": "ea4e5755-37fa-49bc-b244-0154d52c6be3",
   "metadata": {},
   "outputs": [
    {
     "data": {
      "text/html": [
       "<div>\n",
       "<style scoped>\n",
       "    .dataframe tbody tr th:only-of-type {\n",
       "        vertical-align: middle;\n",
       "    }\n",
       "\n",
       "    .dataframe tbody tr th {\n",
       "        vertical-align: top;\n",
       "    }\n",
       "\n",
       "    .dataframe thead th {\n",
       "        text-align: right;\n",
       "    }\n",
       "</style>\n",
       "<table border=\"1\" class=\"dataframe\">\n",
       "  <thead>\n",
       "    <tr style=\"text-align: right;\">\n",
       "      <th></th>\n",
       "      <th>0</th>\n",
       "    </tr>\n",
       "  </thead>\n",
       "  <tbody>\n",
       "    <tr>\n",
       "      <th>0</th>\n",
       "      <td>177.0</td>\n",
       "    </tr>\n",
       "    <tr>\n",
       "      <th>1</th>\n",
       "      <td>178.0</td>\n",
       "    </tr>\n",
       "  </tbody>\n",
       "</table>\n",
       "</div>"
      ],
      "text/plain": [
       "       0\n",
       "0  177.0\n",
       "1  178.0"
      ]
     },
     "execution_count": 36,
     "metadata": {},
     "output_type": "execute_result"
    }
   ],
   "source": [
    "df.mode()"
   ]
  },
  {
   "cell_type": "code",
   "execution_count": 42,
   "id": "72d5340f-ab05-4bd0-bf77-041d8d1d80de",
   "metadata": {},
   "outputs": [],
   "source": [
    "#Q4.Q4. Find the standard deviation for the given data:\n",
    "\n",
    "y=[178,177,176,177,178.2,178,175,179,180,175,178.9,176.2,177,172.5,178,176.5]"
   ]
  },
  {
   "cell_type": "code",
   "execution_count": 49,
   "id": "44abec05-e783-4150-a483-7feb0b8b6cac",
   "metadata": {},
   "outputs": [
    {
     "data": {
      "text/plain": [
       "1.7885814036548633"
      ]
     },
     "execution_count": 49,
     "metadata": {},
     "output_type": "execute_result"
    }
   ],
   "source": [
    "np.std(y)"
   ]
  },
  {
   "cell_type": "code",
   "execution_count": 50,
   "id": "38b80f1e-9d62-463d-bc8d-9230835b73c0",
   "metadata": {},
   "outputs": [],
   "source": [
    "#Q5. How are measures of dispersion such as range, variance, and standard deviation used to describe\n",
    "#the spread of a dataset? Provide an example."
   ]
  },
  {
   "cell_type": "code",
   "execution_count": 52,
   "id": "f4de5c2f-76f4-4cd4-a6ab-62e74b696f3a",
   "metadata": {},
   "outputs": [],
   "source": [
    "# Meaning of dispersion is spread of the data\n",
    "# Two types to measure of the spread 1.variance 2.std deviation"
   ]
  },
  {
   "cell_type": "code",
   "execution_count": 53,
   "id": "4df2f89a-44a3-45f9-89d6-c01477228ed5",
   "metadata": {},
   "outputs": [],
   "source": [
    "# 1. Variance is also two types \n",
    "#a. Populatio Variance\n",
    "#b. Sample varieance"
   ]
  },
  {
   "cell_type": "code",
   "execution_count": 54,
   "id": "1552649f-8e34-4c3e-942c-a2250557ebe1",
   "metadata": {},
   "outputs": [],
   "source": [
    "# Measurement of Population Varience\n",
    "#sigma2= [sametion(data point-Population Means)2 /Population Size] by this formula we can find Population \n",
    "# Variance"
   ]
  },
  {
   "cell_type": "code",
   "execution_count": 55,
   "id": "626e7b3b-8942-4324-9aa6-5a05fbb97909",
   "metadata": {},
   "outputs": [],
   "source": [
    "## Sample Varience \n",
    "# Formula  s2 =[Sametion(data points -sample mean)2  / n-1]"
   ]
  },
  {
   "cell_type": "code",
   "execution_count": 56,
   "id": "63311912-a9e5-475b-8d22-ec4da1acbab9",
   "metadata": {},
   "outputs": [],
   "source": [
    "# Standard Deviation is also two types \n",
    "#a. Population STD Deviation\n",
    "#b. Sample STD Deviation"
   ]
  },
  {
   "cell_type": "code",
   "execution_count": 57,
   "id": "3c2b2d35-2969-44d4-b013-8c0001cbbf21",
   "metadata": {},
   "outputs": [],
   "source": [
    "#a. Population STD Deviation formula is Sigma=Under Root of Population variance"
   ]
  },
  {
   "cell_type": "code",
   "execution_count": 58,
   "id": "8c19b911-d086-4272-aea7-8ac450c1708b",
   "metadata": {},
   "outputs": [],
   "source": [
    "#b. Sample STD Deviation formula is S=under root of Sample Variance"
   ]
  },
  {
   "cell_type": "code",
   "execution_count": 59,
   "id": "fff033f7-10ad-48df-9ac3-9d13bc8b0dfb",
   "metadata": {},
   "outputs": [],
   "source": [
    "#Q6. What is a Venn diagram?"
   ]
  },
  {
   "cell_type": "code",
   "execution_count": 60,
   "id": "be6bad7e-b739-43f1-ad94-2d213f353960",
   "metadata": {},
   "outputs": [],
   "source": [
    "# Ans A Venn diagram is an illustration that uses circles to show the relationships among things or \n",
    "# finite groups of things."
   ]
  },
  {
   "cell_type": "code",
   "execution_count": 61,
   "id": "40bb4faa-2e44-4379-8c79-df2a4d982f9e",
   "metadata": {},
   "outputs": [],
   "source": [
    "#Q7. . For the two given sets A = (2,3,4,5,6,7) & B = (0,2,6,8,10). Find:\n",
    "# i. A intersetion B\n",
    "# ii. AUB "
   ]
  },
  {
   "cell_type": "code",
   "execution_count": 63,
   "id": "0c4e03bd-7f39-4ad0-93cb-b5e4e7168da8",
   "metadata": {},
   "outputs": [],
   "source": [
    "# Ans . A Intersection B=(2,6)\n",
    "#       AUB=(0,2,3,4,5,6,7,8,10)"
   ]
  },
  {
   "cell_type": "code",
   "execution_count": 64,
   "id": "f72be188-f8fd-4473-8bea-4059a581c306",
   "metadata": {},
   "outputs": [],
   "source": [
    "#Q8. What do you understand about skewness in data?"
   ]
  },
  {
   "cell_type": "code",
   "execution_count": 65,
   "id": "42c40ae9-8e8d-413f-9193-222aab874aa6",
   "metadata": {},
   "outputs": [],
   "source": [
    "#Ans Skewness is a measurement of the distortion of symmetrical distribution or \n",
    "#asymmetry in a data set. Skewness is demonstrated on a bell curve when data points are not distributed \n",
    "#symmetrically to the left and right sides of the median on a bell curve."
   ]
  },
  {
   "cell_type": "code",
   "execution_count": 66,
   "id": "7c76d076-dff3-4fc1-aade-644cd7988a5e",
   "metadata": {},
   "outputs": [],
   "source": [
    "#Q9.  If a data is right skewed then what will be the position of median with respect to mean?"
   ]
  },
  {
   "cell_type": "code",
   "execution_count": 67,
   "id": "bfe5418e-7fb1-4d5e-955d-ef733ec9e573",
   "metadata": {},
   "outputs": [],
   "source": [
    "# Ans . If a data is right skewed then the position of median with respect to mean (mean>median)"
   ]
  },
  {
   "cell_type": "code",
   "execution_count": 68,
   "id": "ff586711-3cc1-4dc6-bcfe-97f630d719e1",
   "metadata": {},
   "outputs": [],
   "source": [
    "#Q10. Explain the difference between covariance and correlation. How are these measures used in\n",
    "# statistical analysis?"
   ]
  },
  {
   "cell_type": "code",
   "execution_count": 69,
   "id": "0307defe-53f2-45db-b344-4dcd6dbd48c3",
   "metadata": {},
   "outputs": [],
   "source": [
    "#Ans Covariance is an indicator of the extent to which 2 random variables are dependent on each other.\n",
    "#A higher number denotes higher dependency. Correlation is a statistical measure that indicates how \n",
    "#strongly two variables are related."
   ]
  },
  {
   "cell_type": "code",
   "execution_count": 70,
   "id": "bc010304-ad29-40a8-a46d-79c1fc42d6d1",
   "metadata": {},
   "outputs": [],
   "source": [
    "# SUpose we have two type of data X & Y the We can find out the Co-varience by forfula \n",
    "# co-var(x,y)= sametion of[(data point of X-xmean)(data point of y-ymean) / n-1]"
   ]
  },
  {
   "cell_type": "code",
   "execution_count": 71,
   "id": "2b9a8f89-ae9d-4bc4-b594-599a744c2bab",
   "metadata": {},
   "outputs": [],
   "source": [
    "#Q11. . What is the formula for calculating the sample mean? Provide an example calculation for a\n",
    "#dataset."
   ]
  },
  {
   "cell_type": "code",
   "execution_count": 72,
   "id": "0bf38fa5-56de-4c4e-9c45-a43b9c086f7b",
   "metadata": {},
   "outputs": [],
   "source": [
    "# Ans Suppose we have one data x then smple Mean =Sametion[sum of all number /all number]\n",
    "# x=[1,2,3,4] then x mean =[(1+2+3+4)/4]"
   ]
  },
  {
   "cell_type": "code",
   "execution_count": 73,
   "id": "fad3468e-65c4-4a34-82bf-fb0508892e8c",
   "metadata": {},
   "outputs": [],
   "source": [
    "#Q12.  For a normal distribution data what is the relationship between its measure of central tendency?"
   ]
  },
  {
   "cell_type": "code",
   "execution_count": 74,
   "id": "3e0a79ff-3393-4df1-8d84-cee8940c2277",
   "metadata": {},
   "outputs": [],
   "source": [
    "# Ans Any normal distribution has a graph that is perfectly symmetric about a vertical line through its\n",
    "#peak. Therefore, all measures of central tendency (most commonly, the mean, median, and mode)"
   ]
  },
  {
   "cell_type": "code",
   "execution_count": 75,
   "id": "7ce2f6d7-8901-4eef-90a2-a4200f9b558f",
   "metadata": {},
   "outputs": [],
   "source": [
    "#Q13. How is covariance different from correlation?"
   ]
  },
  {
   "cell_type": "code",
   "execution_count": 76,
   "id": "4c286018-babf-4303-b8a1-cdea571adb71",
   "metadata": {},
   "outputs": [],
   "source": [
    "#Ans. Covariance is an indicator of the extent to which 2 random variables are dependent on each other.\n",
    "#A higher number denotes higher dependency. \n",
    "#Correlation is a statistical measure that indicates how strongly two variables are related. "
   ]
  },
  {
   "cell_type": "code",
   "execution_count": null,
   "id": "0a57a897-dba0-4211-aef5-0b4a8f544252",
   "metadata": {},
   "outputs": [],
   "source": [
    "#Q14.. How do outliers affect measures of central tendency and dispersion? Provide an example."
   ]
  }
 ],
 "metadata": {
  "kernelspec": {
   "display_name": "Python 3 (ipykernel)",
   "language": "python",
   "name": "python3"
  },
  "language_info": {
   "codemirror_mode": {
    "name": "ipython",
    "version": 3
   },
   "file_extension": ".py",
   "mimetype": "text/x-python",
   "name": "python",
   "nbconvert_exporter": "python",
   "pygments_lexer": "ipython3",
   "version": "3.10.8"
  }
 },
 "nbformat": 4,
 "nbformat_minor": 5
}
